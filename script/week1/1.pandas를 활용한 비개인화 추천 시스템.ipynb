{
 "cells": [
  {
   "cell_type": "markdown",
   "metadata": {
    "nbpresent": {
     "id": "2cb23c01-53e3-406c-8859-70178b8586a0"
    },
    "slideshow": {
     "slide_type": "slide"
    }
   },
   "source": [
    "<i><b>Public-AI</b></i>\n",
    "#### week 1. 고객 데이터와 개인화 추천시스템\n",
    "\n",
    "# Section 1. 비개인화 추천 시스템\n",
    "\n",
    "개인화 추천 시스템이 부상하기 전에도 추천시스템은 존재했습니다. 그 중 대표적인 방법이 '순위'를 이용한 비개인화 추천입니다. 누가 어디서 무엇을 구매했느냐 등의 정보를 복합적으로 고려하는 개인화 추천시스템과 다르게 비개인화 추천은 주어진 데이터 안에서 인기도나 최신성 등의 통계치를 내어 정렬을 하고 상위의 상품을 노출합니다. 이번에는 본격적으로 개인화 추천시스템을 배우기에 앞서 비개인화된 방식으로 추천할 아이템을 찾아봅시다. <br>\n",
    "\n",
    "### _Objective_ \n",
    "* [데이터베이스의 데이터 확인하기] CSV 파일을 통해 데이터를 확인하는 방법을 배웁니다.\n",
    "* [데이터 탐색하기] Pandas를 이용해 데이터를 탐색하고, 원하는 형태에 따라 데이터를 변형하는 방법을 배웁니다. \n",
    "* [비개인화 추천: 아이템의 순위 매기기] 비개인화 추천시스템 중 대표적인 방법인 순위를 활용한 추천 방식을 배웁니다."
   ]
  },
  {
   "cell_type": "code",
   "execution_count": null,
   "metadata": {
    "nbpresent": {
     "id": "bfaf6ef2-5261-4bbd-be33-edc09c54244d"
    },
    "slideshow": {
     "slide_type": "slide"
    }
   },
   "outputs": [],
   "source": [
    "# 필요한 라이브러리 가져오기\n",
    "%matplotlib inline\n",
    "import os\n",
    "import numpy as np\n",
    "import pandas as pd\n",
    "import matplotlib.pyplot as plt\n",
    "from datetime import datetime\n",
    "from tensorflow.keras.utils import get_file\n",
    "\n",
    "# 영화 포스터를 가져와 주피터에서 볼 수 있도록 만들어주는 메소드\n",
    "def display_posters(movieId_list):\n",
    "    import requests\n",
    "    from io import BytesIO\n",
    "    from PIL import Image\n",
    "    \n",
    "    def get_poster(movieId):\n",
    "        url = \"https://pai-datasets.s3.ap-northeast-2.amazonaws.com/recommender_systems/movielens/img/POSTER_20M_FULL/{}.jpg\".format(movieId)\n",
    "        try:\n",
    "            response = requests.get(url)\n",
    "            b = BytesIO(response.content)\n",
    "            img = np.asarray(Image.open(b))\n",
    "        except:\n",
    "            img = np.zeros((200,100,3))\n",
    "        return img\n",
    "    \n",
    "    images = []\n",
    "    for i in movieId_list:\n",
    "        img = get_poster(i)\n",
    "        images.append(img)\n",
    "\n",
    "    columns = 5\n",
    "    rows = (len(movieId_list) - 1) // columns + 1\n",
    "    fig, axes = plt.subplots(rows, columns)\n",
    "    axes = axes.flatten()\n",
    "    fig.set_size_inches((20,rows * 5))\n",
    "        \n",
    "    for ind, img in enumerate(images):\n",
    "        c_id = ind % columns\n",
    "        r_id = ind // columns\n",
    "        ax = axes[r_id*columns + c_id]\n",
    "        ax.set_title(movieId_list[ind])\n",
    "        ax.imshow(img)\n",
    "\n",
    "    plt.tight_layout()"
   ]
  },
  {
   "cell_type": "markdown",
   "metadata": {
    "nbpresent": {
     "id": "b2c29424-5e86-4adb-ae24-7b20a73e208b"
    },
    "slideshow": {
     "slide_type": "slide"
    }
   },
   "source": [
    "# \\[ 데이터 확인하기 \\]\n",
    "---\n",
    "\n",
    "## 1. CSV를 통해 데이터를 가져오기\n",
    "\n",
    "지금 데이터에는 총 3가지 Dataframe으로 구성되어 있습니다. 영화에 대한 정보가 담겨진 `movie_df`, 영화 별 장르에 대한 정보가 담겨진 `genre_df`, 영화에 대한 별점 정보가 담겨진 `rating_df`으로 구성되어 있습니다."
   ]
  },
  {
   "cell_type": "code",
   "execution_count": null,
   "metadata": {
    "nbpresent": {
     "id": "a8ae95ea-93e1-4df6-9356-29d92d369ed9"
    },
    "slideshow": {
     "slide_type": "slide"
    }
   },
   "outputs": [],
   "source": [
    "ROOT_URL = \"https://pai-datasets.s3.ap-northeast-2.amazonaws.com/recommender_systems/movielens/datasets\"\n",
    "\n",
    "movie_path = get_file(\"movies.csv\", os.path.join(ROOT_URL, \"movies.csv\"))\n",
    "movie_df = pd.read_csv(movie_path)\n",
    "\n",
    "genre_path = get_file(\"genres.csv\", os.path.join(ROOT_URL, \"genres.csv\"))\n",
    "genre_df = pd.read_csv(genre_path)\n",
    "\n",
    "rating_path = get_file(\"ratings.csv\", os.path.join(ROOT_URL, \"ratings.csv\"))\n",
    "rating_df = pd.read_csv(rating_path)"
   ]
  },
  {
   "cell_type": "markdown",
   "metadata": {
    "nbpresent": {
     "id": "8d78ecde-e0e8-412b-af42-46e393a640ec"
    },
    "slideshow": {
     "slide_type": "slide"
    }
   },
   "source": [
    "## 2. Movie-Lens 데이터베이스의 테이블 확인하기\n"
   ]
  },
  {
   "cell_type": "markdown",
   "metadata": {},
   "source": [
    "### (1) movie dataframe 확인하기\n"
   ]
  },
  {
   "cell_type": "markdown",
   "metadata": {},
   "source": [
    "#### 데이터 일부 가져오기"
   ]
  },
  {
   "cell_type": "code",
   "execution_count": null,
   "metadata": {
    "nbpresent": {
     "id": "9bb14f34-99c2-4020-8b14-4f9e201c928c"
    },
    "slideshow": {
     "slide_type": "subslide"
    }
   },
   "outputs": [],
   "source": []
  },
  {
   "cell_type": "markdown",
   "metadata": {},
   "source": [
    "#### 전체 행 갯수 확인하기"
   ]
  },
  {
   "cell_type": "code",
   "execution_count": null,
   "metadata": {},
   "outputs": [],
   "source": []
  },
  {
   "cell_type": "markdown",
   "metadata": {},
   "source": [
    "#### 해당 데이터의 컬럼 정보 가져오기"
   ]
  },
  {
   "cell_type": "code",
   "execution_count": null,
   "metadata": {},
   "outputs": [],
   "source": []
  },
  {
   "cell_type": "markdown",
   "metadata": {},
   "source": [
    "### (2) rating dataframe 확인하기"
   ]
  },
  {
   "cell_type": "markdown",
   "metadata": {},
   "source": [
    "#### 데이터 일부 가져오기"
   ]
  },
  {
   "cell_type": "code",
   "execution_count": null,
   "metadata": {},
   "outputs": [],
   "source": []
  },
  {
   "cell_type": "markdown",
   "metadata": {},
   "source": [
    "#### 전체 행 갯수 확인하기"
   ]
  },
  {
   "cell_type": "code",
   "execution_count": null,
   "metadata": {},
   "outputs": [],
   "source": []
  },
  {
   "cell_type": "markdown",
   "metadata": {},
   "source": [
    "#### 해당 데이터의 컬럼 정보 가져오기"
   ]
  },
  {
   "cell_type": "code",
   "execution_count": null,
   "metadata": {},
   "outputs": [],
   "source": []
  },
  {
   "cell_type": "markdown",
   "metadata": {},
   "source": [
    "####  주요 통계 정보 가져오기"
   ]
  },
  {
   "cell_type": "code",
   "execution_count": null,
   "metadata": {},
   "outputs": [],
   "source": []
  },
  {
   "cell_type": "markdown",
   "metadata": {},
   "source": [
    "### (3) genre dataframe 확인하기"
   ]
  },
  {
   "cell_type": "markdown",
   "metadata": {},
   "source": [
    "#### 일부 가져오기 "
   ]
  },
  {
   "cell_type": "code",
   "execution_count": null,
   "metadata": {},
   "outputs": [],
   "source": []
  },
  {
   "cell_type": "markdown",
   "metadata": {},
   "source": [
    "####  전체 행 갯수 확인하기"
   ]
  },
  {
   "cell_type": "code",
   "execution_count": null,
   "metadata": {},
   "outputs": [],
   "source": []
  },
  {
   "cell_type": "markdown",
   "metadata": {},
   "source": [
    "####  해당 데이터의 컬럼 정보 가져오기"
   ]
  },
  {
   "cell_type": "code",
   "execution_count": null,
   "metadata": {},
   "outputs": [],
   "source": []
  },
  {
   "cell_type": "markdown",
   "metadata": {
    "nbpresent": {
     "id": "0607bb86-2370-4acf-8795-32d267266b6a"
    },
    "slideshow": {
     "slide_type": "slide"
    }
   },
   "source": [
    "# \\[ 데이터 탐색하기 \\]\n",
    "---\n",
    "\n",
    "Pandas는 파이썬의 대표적인 데이터 분석 패키지입니다. Pandas는 '코드로 치는 엑셀'과 비슷하다고 생각하면 됩니다. 코드로서 테이블에서 필요한 정보들을 탐색하고, 계산하고, 시각화하는 기능을 제공해줍니다.<br>"
   ]
  },
  {
   "cell_type": "markdown",
   "metadata": {
    "nbpresent": {
     "id": "19d659b6-f627-4a50-be2c-320e17bc8993"
    },
    "slideshow": {
     "slide_type": "subslide"
    }
   },
   "source": [
    "## 1. 각 테이블에 대한 주요 통계정보 확인하기"
   ]
  },
  {
   "cell_type": "markdown",
   "metadata": {
    "nbpresent": {
     "id": "e02856a6-1065-404c-a364-5e628d909958"
    },
    "slideshow": {
     "slide_type": "slide"
    }
   },
   "source": [
    "### (1) `movies` 테이블  탐색하기"
   ]
  },
  {
   "cell_type": "code",
   "execution_count": null,
   "metadata": {
    "nbpresent": {
     "id": "64239999-827c-4568-8f5b-1b4d1057fc18"
    },
    "slideshow": {
     "slide_type": "subslide"
    }
   },
   "outputs": [],
   "source": []
  },
  {
   "cell_type": "markdown",
   "metadata": {
    "slideshow": {
     "slide_type": "subslide"
    }
   },
   "source": [
    "\n",
    "#### 데이터 내 영화의 연도 범위 살펴보기 "
   ]
  },
  {
   "cell_type": "code",
   "execution_count": null,
   "metadata": {
    "nbpresent": {
     "id": "b05cd720-0b75-4548-91bb-2d78e2b9afa9"
    },
    "slideshow": {
     "slide_type": "subslide"
    }
   },
   "outputs": [],
   "source": []
  },
  {
   "cell_type": "code",
   "execution_count": null,
   "metadata": {},
   "outputs": [],
   "source": []
  },
  {
   "cell_type": "markdown",
   "metadata": {},
   "source": [
    "#### 출시 연도 별 영화 갯수 가져오기\n",
    "\n",
    "출시 연도별로 얼마나 많은 영화의 데이터가 있는지 살펴보기 위해 `groupby` 구문을 배워보도록 하겠습니다. `groupby` 는 어떤 기준을 중심으로 데이터를 합쳐 집계 함수를 적용하고자 할 때 사용됩니다.<br>"
   ]
  },
  {
   "cell_type": "code",
   "execution_count": null,
   "metadata": {
    "nbpresent": {
     "id": "6ecc2dd5-56b9-4579-a52b-6d57e76224da"
    },
    "slideshow": {
     "slide_type": "subslide"
    }
   },
   "outputs": [],
   "source": []
  },
  {
   "cell_type": "markdown",
   "metadata": {
    "nbpresent": {
     "id": "94d8eab7-8896-4c56-99cb-bfd1d2f813e2"
    },
    "slideshow": {
     "slide_type": "slide"
    }
   },
   "source": [
    "#### Bar 그래프를 통해  출시 연도 별 영화 갯수 시각화하기"
   ]
  },
  {
   "cell_type": "code",
   "execution_count": null,
   "metadata": {},
   "outputs": [],
   "source": []
  },
  {
   "cell_type": "markdown",
   "metadata": {},
   "source": [
    "그래프를 보면, 1990년대 이후 영화의 평점이 많고, 최근인 2014년도와 2015년도 영화의 평점이 아직 많이 쌓이지 않았음을 알 수 있습니다. "
   ]
  },
  {
   "cell_type": "markdown",
   "metadata": {
    "nbpresent": {
     "id": "ce45d3be-2428-41dd-b05d-a34be30aa3a5"
    },
    "slideshow": {
     "slide_type": "slide"
    }
   },
   "source": [
    "### (2) `genres` 테이블 탐색하기\n",
    "\n",
    "`genres` 테이블을 간단히 탐색해 보겠습니다. "
   ]
  },
  {
   "cell_type": "code",
   "execution_count": null,
   "metadata": {
    "nbpresent": {
     "id": "eec8ce0e-1ba2-4e84-9dfe-b4e2388707f4"
    },
    "slideshow": {
     "slide_type": "subslide"
    }
   },
   "outputs": [],
   "source": []
  },
  {
   "cell_type": "code",
   "execution_count": null,
   "metadata": {},
   "outputs": [],
   "source": []
  },
  {
   "cell_type": "markdown",
   "metadata": {
    "nbpresent": {
     "id": "5c799790-b8ba-477b-9e7d-cc61c9a8e354"
    },
    "slideshow": {
     "slide_type": "slide"
    }
   },
   "source": [
    "#### 장르 별 영화의 갯수를 가져오기\n",
    "\n",
    "아까와 같이 가져오되, 내림차순으로 정렬하여 가져오도록 해보겠습니다."
   ]
  },
  {
   "cell_type": "code",
   "execution_count": null,
   "metadata": {
    "nbpresent": {
     "id": "4d94231f-581a-481c-9ca1-3fcd7677319f"
    },
    "slideshow": {
     "slide_type": "subslide"
    }
   },
   "outputs": [],
   "source": []
  },
  {
   "cell_type": "markdown",
   "metadata": {},
   "source": [
    "#### PIE 그래프를 통해  출시 연도 별 장르 별 영화의 갯수 시각화하기"
   ]
  },
  {
   "cell_type": "code",
   "execution_count": null,
   "metadata": {
    "nbpresent": {
     "id": "0d7e7152-3df9-410c-b5bd-3984a5513121"
    },
    "slideshow": {
     "slide_type": "subslide"
    }
   },
   "outputs": [],
   "source": []
  },
  {
   "cell_type": "markdown",
   "metadata": {
    "nbpresent": {
     "id": "46ac0e68-8831-40ec-a93b-2538fa0076ca"
    },
    "slideshow": {
     "slide_type": "slide"
    }
   },
   "source": [
    "#### 영화 별 장르의 갯수를 가져오기\n",
    "\n",
    "아까와 같이 가져오되, 내림차순으로 정렬하여 가져오도록 해보겠습니다."
   ]
  },
  {
   "cell_type": "code",
   "execution_count": null,
   "metadata": {
    "nbpresent": {
     "id": "6843b53d-840e-4f05-91a2-17003cf92580"
    },
    "slideshow": {
     "slide_type": "subslide"
    }
   },
   "outputs": [],
   "source": []
  },
  {
   "cell_type": "markdown",
   "metadata": {
    "nbpresent": {
     "id": "86bac1cf-db37-439a-96f1-344e1c38f63f"
    },
    "slideshow": {
     "slide_type": "slide"
    }
   },
   "source": [
    "#### 히스토그램 그래프를 통해  영화 별 장르의 수를 시각화하기\n",
    "\n",
    "영화 별 장르의 수를 히스토그램으로 나타내면 아래와 같습니다. 대부분 하나 혹은 두 개의 장르 정보를 가지는 것을 알 수 있습니다. "
   ]
  },
  {
   "cell_type": "code",
   "execution_count": null,
   "metadata": {
    "nbpresent": {
     "id": "1f619261-c227-447c-ba0f-378030a248ba"
    },
    "slideshow": {
     "slide_type": "subslide"
    }
   },
   "outputs": [],
   "source": []
  },
  {
   "cell_type": "markdown",
   "metadata": {
    "nbpresent": {
     "id": "972d6ddb-635c-4195-b8e1-7af57621227e"
    },
    "slideshow": {
     "slide_type": "slide"
    }
   },
   "source": [
    "### (3) `ratings` 테이블 탐색하기\n",
    "\n",
    "이번에는 `ratings` 데이터를 확인해봅시다."
   ]
  },
  {
   "cell_type": "code",
   "execution_count": null,
   "metadata": {},
   "outputs": [],
   "source": []
  },
  {
   "cell_type": "markdown",
   "metadata": {},
   "source": [
    "#### 시간 정보를 `datetime` 포맷으로 변환하기"
   ]
  },
  {
   "cell_type": "markdown",
   "metadata": {
    "nbpresent": {
     "id": "988a6999-135d-4001-85b1-75cf73a622ae"
    },
    "slideshow": {
     "slide_type": "slide"
    }
   },
   "source": [
    "여기에서 `rate_at`은 시간을 나타내는 방법 중 하나로, 1970년 1월 1일부터 몇 초가 지났는지를 계산한 결과입니다.`rated_at`를 시간값으로 변환하기 위해서는`pd.to_datetime()`을 이용하면 됩니다."
   ]
  },
  {
   "cell_type": "code",
   "execution_count": null,
   "metadata": {
    "nbpresent": {
     "id": "2b8de903-e6f7-44b0-8345-bb0b39b3ef91"
    },
    "slideshow": {
     "slide_type": "subslide"
    }
   },
   "outputs": [],
   "source": []
  },
  {
   "cell_type": "markdown",
   "metadata": {},
   "source": [
    "#### 시간 정보를 연도로 변환하기\n",
    "\n",
    "타임스탬프 값을 datetime으로 변경해주면 아래와 같이 시간 계산을 매우 편리하게 수행할 수 있습니다. `.dt.year`로 지칭하여 연도만 가져올 수 있습니다."
   ]
  },
  {
   "cell_type": "code",
   "execution_count": null,
   "metadata": {
    "nbpresent": {
     "id": "4f567ded-6b0c-4600-90e0-3908cfa1f334"
    },
    "slideshow": {
     "slide_type": "subslide"
    }
   },
   "outputs": [],
   "source": []
  },
  {
   "cell_type": "markdown",
   "metadata": {
    "nbpresent": {
     "id": "7d84b86c-07be-45cd-b093-9aab9d7672cd"
    },
    "slideshow": {
     "slide_type": "slide"
    }
   },
   "source": [
    "#### 연도 별 별점 수 구하기"
   ]
  },
  {
   "cell_type": "code",
   "execution_count": null,
   "metadata": {
    "nbpresent": {
     "id": "49c0c85d-2c93-4353-adcf-e1bbe9b340ce"
    },
    "slideshow": {
     "slide_type": "subslide"
    }
   },
   "outputs": [],
   "source": []
  },
  {
   "cell_type": "markdown",
   "metadata": {},
   "source": [
    "#### 연도 별점 수를 시각화하기 "
   ]
  },
  {
   "cell_type": "code",
   "execution_count": null,
   "metadata": {},
   "outputs": [],
   "source": []
  },
  {
   "cell_type": "markdown",
   "metadata": {
    "nbpresent": {
     "id": "c04ff608-c03b-49de-a298-e25b1701dcc7"
    },
    "slideshow": {
     "slide_type": "slide"
    }
   },
   "source": [
    "#### 유저 별로 평균 선호도 계산하기"
   ]
  },
  {
   "cell_type": "code",
   "execution_count": null,
   "metadata": {
    "nbpresent": {
     "id": "c12c2c9d-4cb8-4553-9c97-146034184150"
    },
    "slideshow": {
     "slide_type": "subslide"
    }
   },
   "outputs": [],
   "source": []
  },
  {
   "cell_type": "markdown",
   "metadata": {},
   "source": [
    "#### 유저 별 평균 선호도를 Histogram으로 시각화하기"
   ]
  },
  {
   "cell_type": "code",
   "execution_count": null,
   "metadata": {
    "nbpresent": {
     "id": "caf0411e-2266-459a-be71-ca2edcf701fc"
    },
    "slideshow": {
     "slide_type": "subslide"
    }
   },
   "outputs": [],
   "source": []
  },
  {
   "cell_type": "markdown",
   "metadata": {
    "nbpresent": {
     "id": "5e1fb1e2-db3d-459b-a3ba-8d10027cfc85"
    },
    "slideshow": {
     "slide_type": "slide"
    }
   },
   "source": [
    "# \\[ 비개인화 추천 : 아이템의 순위 매기기 \\]\n",
    "---\n",
    "\n",
    "가장 간단한 형태의 추천은 **잘 나가는 제품 혹은 서비스**을 제시하는 것입니다. 가장 평이 좋은 제품 혹은 가장 구매가 빈번한 제품, 최근에 나온 제품 등을 추천하는 것은 고객에 대한 정보가 전혀 없을 때 매우 유용합니다. 그렇기 때문에 대부분의 커머스 사이트에서 랜딩 페이지에 인기 순위 혹은 신상을 소개하는 경우가 많습니다. Pandas의 정렬함수와 집계함수를 활용해 (1) 최신 아이템, (2) 최고 평점 아이템, (3) 최근 인기 아이템 리스트를 만들어보겠습니다.<br>"
   ]
  },
  {
   "cell_type": "markdown",
   "metadata": {
    "nbpresent": {
     "id": "308d0bee-cc52-4c11-a737-ae5178b56cd1"
    },
    "slideshow": {
     "slide_type": "slide"
    }
   },
   "source": [
    "## 1. 최신(신규) 아이템 추천하기\n",
    "\n",
    "> 최근에 나온 제품 있나요?\n",
    "\n",
    "아이템의 출시일(발매일)을 기준으로 정렬을 하여, 가장 최근에 등장한 것들 위주로 가져올 수 있습니다. 영화의 경우 출시시점에 따라 최신 순으로 나열할 수 있을 것입니다. `movies`데이터의 `release_year` 칼럼이 있으므로, 이를 기준으로 상위 10개 아이템을 뽑아보겠습니다. "
   ]
  },
  {
   "cell_type": "code",
   "execution_count": null,
   "metadata": {
    "nbpresent": {
     "id": "6de7e90d-6d05-4c84-8d65-91c212bd1106"
    },
    "slideshow": {
     "slide_type": "subslide"
    }
   },
   "outputs": [],
   "source": []
  },
  {
   "cell_type": "markdown",
   "metadata": {
    "nbpresent": {
     "id": "90d5f668-5d33-4ad3-bf3c-b2af31dc9258"
    },
    "slideshow": {
     "slide_type": "slide"
    }
   },
   "source": [
    "## 2. 최고 평점 아이템 추천하기\n",
    "> 평이 제일 좋은 물건은 무엇인가요?\n",
    "\n",
    "평균 평점을 이용해 평이 제일 좋은 물건을 뽑아서 보여줄 수도 있을 것입니다. 다만, 평점이 높은 아이템을 뽑을 때는 한개, 두개의 평만 있는 것들은 제외시킬 필요가 있습니다. 충분히 많은 사람들로부터 검증받지 못한 것들은 그 평을 신뢰할 수 없기 때문입니다.  보통 응답조사를 할 때 300명 이상을 유의미하다고 판단하기 때문에, 300명 이상 평가를 받은 영화들만 추려내도록 하겠습니다. <br>"
   ]
  },
  {
   "cell_type": "markdown",
   "metadata": {
    "nbpresent": {
     "id": "bc182e5f-bb6a-4eaf-bd8d-cfe977d0edbb"
    },
    "slideshow": {
     "slide_type": "slide"
    }
   },
   "source": [
    "#### 300개 이상 평점을 받은 영화 중 Top 10을 선정하기"
   ]
  },
  {
   "cell_type": "code",
   "execution_count": null,
   "metadata": {},
   "outputs": [],
   "source": []
  },
  {
   "cell_type": "markdown",
   "metadata": {
    "nbpresent": {
     "id": "454ca303-2ae7-4553-abdc-5afbb6f5967a"
    },
    "slideshow": {
     "slide_type": "slide"
    }
   },
   "source": [
    "#### 300개 이상 평점을 받은 **Comedy** 영화 중 Top 10 선정하기\n",
    "\n",
    "장르 별로 최고 평점 영화들을 뽑아서 보여준다면, 특정 장르에 관심이 많은 유저에게 유용한 정보를 제공할 수 있을 것입니다. 이번에는 코미디 영화만 추려서 동일한 방법으로 최고 평점 영화를 뽑아봅시다. "
   ]
  },
  {
   "cell_type": "code",
   "execution_count": null,
   "metadata": {},
   "outputs": [],
   "source": []
  },
  {
   "cell_type": "markdown",
   "metadata": {
    "nbpresent": {
     "id": "64520e9e-cf52-4410-a4f9-22bddd964e57"
    },
    "slideshow": {
     "slide_type": "slide"
    }
   },
   "source": [
    "## 3. 최근 인기 아이템(HOT) 추천하기\n",
    "\n",
    "> 요즘 사람들이 제일 많이 찾는 것이 무엇인가요?\n",
    "\n",
    "영화의 평점이 높은 순으로 영화를 추천하게 되면 어떤 약점이 있을까요? 오래된 영화일수록 평가가 많이 쌓이게 되기 때문에, 과거 평가 기준으로 영화를 추천하게 됩니다. 최근에 개봉한 영화는 아직 평점이 많지 않아 추천되지 않을 수 있습니다. 최신 영화를 위주로 추천하고 싶다면, 아래와 같은 방식으로 최근 개봉영화만을 추려내어 추천을 해야 합니다. <br>"
   ]
  },
  {
   "cell_type": "markdown",
   "metadata": {},
   "source": [
    "#### 최근 4년 간 출시되었던 영화 정보 가져오기 "
   ]
  },
  {
   "cell_type": "code",
   "execution_count": null,
   "metadata": {
    "nbpresent": {
     "id": "9013f78e-fa4a-4fc2-a73a-ac0af44cef30"
    },
    "slideshow": {
     "slide_type": "subslide"
    }
   },
   "outputs": [],
   "source": []
  },
  {
   "cell_type": "markdown",
   "metadata": {},
   "source": [
    "#### 최근 4년간 영화 중 Top 10 선정하기"
   ]
  },
  {
   "cell_type": "code",
   "execution_count": null,
   "metadata": {
    "nbpresent": {
     "id": "20d61152-7586-4cf9-9aff-548d97f7ea97"
    },
    "slideshow": {
     "slide_type": "subslide"
    }
   },
   "outputs": [],
   "source": []
  },
  {
   "cell_type": "markdown",
   "metadata": {
    "nbpresent": {
     "id": "1764779e-811a-41b0-9776-73e5c4902b0a"
    },
    "slideshow": {
     "slide_type": "slide"
    }
   },
   "source": [
    "`hot10_movie_ids` 영화를 기준으로 앞서 인기 영화를 뽑은 기준을 그대로 적용하여 최근 인기 아이템을 뽑아보겠습니다. 결과를 확인해보면, 앞서 전체 데이터에서 인기 영화를 뽑았을 때에는 보이지 않았던 최신 영화가 리스트됨을 알 수 있습니다. "
   ]
  },
  {
   "cell_type": "markdown",
   "metadata": {
    "deletable": false,
    "nbpresent": {
     "id": "5a91d893-5d6e-41af-9eef-d22a769d0947"
    },
    "slideshow": {
     "slide_type": "slide"
    }
   },
   "source": [
    "#  \n",
    "\n",
    "---\n",
    "\n",
    "    Copyright(c) 2020 by Public AI. All rights reserved.\n",
    "    Writen by PAI, SangJae Kang ( rocketgrowthsj@publicai.co.kr )  last updated on 2020/03/30\n",
    "\n",
    "\n",
    "---"
   ]
  }
 ],
 "metadata": {
  "kernelspec": {
   "display_name": "Python 3",
   "language": "python",
   "name": "python3"
  },
  "language_info": {
   "codemirror_mode": {
    "name": "ipython",
    "version": 3
   },
   "file_extension": ".py",
   "mimetype": "text/x-python",
   "name": "python",
   "nbconvert_exporter": "python",
   "pygments_lexer": "ipython3",
   "version": "3.6.6"
  },
  "nbpresent": {
   "slides": {
    "0005be62-ca46-4256-a2f0-f65f5c79b399": {
     "id": "0005be62-ca46-4256-a2f0-f65f5c79b399",
     "prev": "36959ef7-7124-4e58-a180-f9a9ef19a94c",
     "regions": {
      "6c3ccb95-4d7c-4338-9535-e126280a8d06": {
       "attrs": {
        "height": 0.8,
        "width": 0.8,
        "x": 0.1,
        "y": 0.1
       },
       "content": {
        "cell": "308d0bee-cc52-4c11-a737-ae5178b56cd1",
        "part": "whole"
       },
       "id": "6c3ccb95-4d7c-4338-9535-e126280a8d06"
      }
     }
    },
    "00a1ba8e-6a93-443f-8988-22e4849f31f4": {
     "id": "00a1ba8e-6a93-443f-8988-22e4849f31f4",
     "prev": "fb78598d-0441-40d2-9156-454f721a4717",
     "regions": {
      "0b2ad7c3-785d-48c6-b83a-5ab1281aa416": {
       "attrs": {
        "height": 0.8,
        "width": 0.8,
        "x": 0.1,
        "y": 0.1
       },
       "content": {
        "cell": "454ca303-2ae7-4553-abdc-5afbb6f5967a",
        "part": "whole"
       },
       "id": "0b2ad7c3-785d-48c6-b83a-5ab1281aa416"
      }
     }
    },
    "0158b225-8bd7-4fa8-a1f4-ebed1b2fe872": {
     "id": "0158b225-8bd7-4fa8-a1f4-ebed1b2fe872",
     "prev": "e4d36269-e388-4327-988c-8b3c09972041",
     "regions": {
      "71668711-5258-4f45-a24a-2fd61034ad6f": {
       "attrs": {
        "height": 0.8,
        "width": 0.8,
        "x": 0.1,
        "y": 0.1
       },
       "content": {
        "cell": "6ecc2dd5-56b9-4579-a52b-6d57e76224da",
        "part": "whole"
       },
       "id": "71668711-5258-4f45-a24a-2fd61034ad6f"
      }
     }
    },
    "08fd4d00-1068-41e1-95c0-4fda50548a67": {
     "id": "08fd4d00-1068-41e1-95c0-4fda50548a67",
     "prev": "f339c6a6-1491-4bb2-936d-873c49ad27bd",
     "regions": {
      "42debed5-e90d-4dc9-9318-d9bcb5332cf8": {
       "attrs": {
        "height": 0.8,
        "width": 0.8,
        "x": 0.1,
        "y": 0.1
       },
       "content": {
        "cell": "c12c2c9d-4cb8-4553-9c97-146034184150",
        "part": "whole"
       },
       "id": "42debed5-e90d-4dc9-9318-d9bcb5332cf8"
      }
     }
    },
    "0ff1de19-b30c-462a-b88b-829f95323aa2": {
     "id": "0ff1de19-b30c-462a-b88b-829f95323aa2",
     "prev": "cdfc5df9-d114-4f4b-863d-06f053b8bcfa",
     "regions": {
      "3984b630-ed49-4bcd-bec1-146f764a62ef": {
       "attrs": {
        "height": 0.8,
        "width": 0.8,
        "x": 0.1,
        "y": 0.1
       },
       "content": {
        "cell": "5c799790-b8ba-477b-9e7d-cc61c9a8e354",
        "part": "whole"
       },
       "id": "3984b630-ed49-4bcd-bec1-146f764a62ef"
      }
     }
    },
    "15ec785f-fca9-420b-a47b-c090571b8bcb": {
     "id": "15ec785f-fca9-420b-a47b-c090571b8bcb",
     "prev": "31913634-eb4b-4b96-9224-33f4673b8906",
     "regions": {
      "b30793fd-7fde-4ab3-b958-048158447b7e": {
       "attrs": {
        "height": 0.8,
        "width": 0.8,
        "x": 0.1,
        "y": 0.1
       },
       "content": {
        "cell": "1f619261-c227-447c-ba0f-378030a248ba",
        "part": "whole"
       },
       "id": "b30793fd-7fde-4ab3-b958-048158447b7e"
      }
     }
    },
    "16a4cbcb-d5cc-4717-af46-038fe655586e": {
     "id": "16a4cbcb-d5cc-4717-af46-038fe655586e",
     "prev": "57b43f33-f3f7-456e-9efb-dfec632272f7",
     "regions": {
      "72928dca-cabc-4bf8-a7da-a388873d2dbe": {
       "attrs": {
        "height": 0.8,
        "width": 0.8,
        "x": 0.1,
        "y": 0.1
       },
       "content": {
        "cell": "af8dc6c7-6377-4f41-b0b8-f44530daa432",
        "part": "whole"
       },
       "id": "72928dca-cabc-4bf8-a7da-a388873d2dbe"
      }
     }
    },
    "17578093-fadb-4cbb-808f-d7420487feda": {
     "id": "17578093-fadb-4cbb-808f-d7420487feda",
     "prev": "e0d77f20-1391-405f-a9eb-4ad897a5877e",
     "regions": {
      "94a91594-14f8-490f-ae13-22daa88180a5": {
       "attrs": {
        "height": 0.8,
        "width": 0.8,
        "x": 0.1,
        "y": 0.1
       },
       "content": {
        "cell": "b4b9159c-0116-449a-badc-35b1fa51eb26",
        "part": "whole"
       },
       "id": "94a91594-14f8-490f-ae13-22daa88180a5"
      }
     }
    },
    "1ac6d73e-730d-4561-abd2-e0db3ebb63eb": {
     "id": "1ac6d73e-730d-4561-abd2-e0db3ebb63eb",
     "prev": "322da08d-f117-4218-ac06-657f76b8b8fe",
     "regions": {
      "7342cfea-5c7b-4ef4-b402-f95df92ab0c6": {
       "attrs": {
        "height": 0.8,
        "width": 0.8,
        "x": 0.1,
        "y": 0.1
       },
       "content": {
        "cell": "46ac0e68-8831-40ec-a93b-2538fa0076ca",
        "part": "whole"
       },
       "id": "7342cfea-5c7b-4ef4-b402-f95df92ab0c6"
      }
     }
    },
    "1be0d281-8b58-4449-9fba-2679e9dd4349": {
     "id": "1be0d281-8b58-4449-9fba-2679e9dd4349",
     "prev": "20776156-5c68-491c-8fa4-6e4571996b1b",
     "regions": {
      "0516733a-dd08-4802-8238-8978f27b0863": {
       "attrs": {
        "height": 0.8,
        "width": 0.8,
        "x": 0.1,
        "y": 0.1
       },
       "content": {
        "cell": "8749bcbc-cc64-4102-8fce-1240c87f99ee",
        "part": "whole"
       },
       "id": "0516733a-dd08-4802-8238-8978f27b0863"
      }
     }
    },
    "1c9b98ed-e87d-48bb-bed6-1419e1a5ed51": {
     "id": "1c9b98ed-e87d-48bb-bed6-1419e1a5ed51",
     "prev": "b9a09c9c-fb6b-4523-9684-27b777fbb2a4",
     "regions": {
      "bcdb1cd5-b6ec-4f8a-b920-7854a04a935d": {
       "attrs": {
        "height": 0.8,
        "width": 0.8,
        "x": 0.1,
        "y": 0.1
       },
       "content": {
        "cell": "b2c29424-5e86-4adb-ae24-7b20a73e208b",
        "part": "whole"
       },
       "id": "bcdb1cd5-b6ec-4f8a-b920-7854a04a935d"
      }
     }
    },
    "1d9495df-19ea-4c62-82ff-024b9eb685e6": {
     "id": "1d9495df-19ea-4c62-82ff-024b9eb685e6",
     "prev": "b1593d4d-57a7-4cf6-b8a3-bd1d4671e193",
     "regions": {
      "c3990989-eccc-4f4c-9f6b-d2f1d09cbee7": {
       "attrs": {
        "height": 0.8,
        "width": 0.8,
        "x": 0.1,
        "y": 0.1
       },
       "content": {
        "cell": "8d78ecde-e0e8-412b-af42-46e393a640ec",
        "part": "whole"
       },
       "id": "c3990989-eccc-4f4c-9f6b-d2f1d09cbee7"
      }
     }
    },
    "1fdd5cb2-2ed3-44e8-a1de-f6b85f5d97b1": {
     "id": "1fdd5cb2-2ed3-44e8-a1de-f6b85f5d97b1",
     "prev": "b2dec1e1-0c2b-451c-b861-5e4d2f1c4d55",
     "regions": {
      "6636eab6-3b09-40bb-b9f3-179627e06b7a": {
       "attrs": {
        "height": 0.8,
        "width": 0.8,
        "x": 0.1,
        "y": 0.1
       },
       "content": {
        "cell": "20d61152-7586-4cf9-9aff-548d97f7ea97",
        "part": "whole"
       },
       "id": "6636eab6-3b09-40bb-b9f3-179627e06b7a"
      }
     }
    },
    "20776156-5c68-491c-8fa4-6e4571996b1b": {
     "id": "20776156-5c68-491c-8fa4-6e4571996b1b",
     "prev": "778f5afb-6fb4-45de-8ddf-1014bb218af6",
     "regions": {
      "6e127263-4614-4333-8833-70f3697aa018": {
       "attrs": {
        "height": 0.8,
        "width": 0.8,
        "x": 0.1,
        "y": 0.1
       },
       "content": {
        "cell": "fa434a28-420e-454e-ae8b-83a33d4c23cb",
        "part": "whole"
       },
       "id": "6e127263-4614-4333-8833-70f3697aa018"
      }
     }
    },
    "22a68641-4113-4eff-ab82-3fbc5c6ec1b8": {
     "id": "22a68641-4113-4eff-ab82-3fbc5c6ec1b8",
     "prev": "3f86b8d0-2163-4108-bccd-9d7a548d0777",
     "regions": {
      "05779f09-d9d6-4d33-8876-13f7f6cc6fe6": {
       "attrs": {
        "height": 0.8,
        "width": 0.8,
        "x": 0.1,
        "y": 0.1
       },
       "content": {
        "cell": "19d659b6-f627-4a50-be2c-320e17bc8993",
        "part": "whole"
       },
       "id": "05779f09-d9d6-4d33-8876-13f7f6cc6fe6"
      }
     }
    },
    "25b35d5b-03e9-44f1-804c-f3042e46de39": {
     "id": "25b35d5b-03e9-44f1-804c-f3042e46de39",
     "prev": "1ac6d73e-730d-4561-abd2-e0db3ebb63eb",
     "regions": {
      "20182559-37d6-4012-a35e-5532f78e734f": {
       "attrs": {
        "height": 0.8,
        "width": 0.8,
        "x": 0.1,
        "y": 0.1
       },
       "content": {
        "cell": "6843b53d-840e-4f05-91a2-17003cf92580",
        "part": "whole"
       },
       "id": "20182559-37d6-4012-a35e-5532f78e734f"
      }
     }
    },
    "25b60775-1205-489d-b0b1-e1c53fad95b8": {
     "id": "25b60775-1205-489d-b0b1-e1c53fad95b8",
     "prev": "5e3c4c06-2124-4ec0-bde7-45c9b1db376b",
     "regions": {
      "30be81cc-ef7e-44b6-9a52-6dbea71a752f": {
       "attrs": {
        "height": 0.8,
        "width": 0.8,
        "x": 0.1,
        "y": 0.1
       },
       "content": {
        "cell": "b5931739-0dae-46e3-867d-3da0366a961e",
        "part": "whole"
       },
       "id": "30be81cc-ef7e-44b6-9a52-6dbea71a752f"
      }
     }
    },
    "25d8fb62-9b05-499c-8b2d-a074b626beb7": {
     "id": "25d8fb62-9b05-499c-8b2d-a074b626beb7",
     "prev": "49d42ab1-d9e1-4b3f-9752-e03077665a70",
     "regions": {
      "6ecf44dd-475c-4a46-9a87-e6b78d479a74": {
       "attrs": {
        "height": 0.8,
        "width": 0.8,
        "x": 0.1,
        "y": 0.1
       },
       "content": {
        "cell": "c657d882-e2c2-4af2-a315-ac8ec1dcde2e",
        "part": "whole"
       },
       "id": "6ecf44dd-475c-4a46-9a87-e6b78d479a74"
      }
     }
    },
    "2603025e-4757-4bb9-9516-74804d91fa33": {
     "id": "2603025e-4757-4bb9-9516-74804d91fa33",
     "prev": "391b267e-f20c-46bb-90dc-27489d3552af",
     "regions": {
      "e376a7c3-6ae3-4885-a18c-d9a62cc1a119": {
       "attrs": {
        "height": 0.8,
        "width": 0.8,
        "x": 0.1,
        "y": 0.1
       },
       "content": {
        "cell": "addb2cce-5211-4480-b668-9cc14818afae",
        "part": "whole"
       },
       "id": "e376a7c3-6ae3-4885-a18c-d9a62cc1a119"
      }
     }
    },
    "27dc4790-f908-4b64-a210-8f65b166a6c0": {
     "id": "27dc4790-f908-4b64-a210-8f65b166a6c0",
     "prev": "3f97e82f-80ff-4199-bf60-51cdb5ad741d",
     "regions": {
      "dbae4118-643d-45ee-9621-e89a3712c890": {
       "attrs": {
        "height": 0.8,
        "width": 0.8,
        "x": 0.1,
        "y": 0.1
       },
       "content": {
        "cell": "c5a577c4-4978-4a82-b8d2-56440ed89fcf",
        "part": "whole"
       },
       "id": "dbae4118-643d-45ee-9621-e89a3712c890"
      }
     }
    },
    "31913634-eb4b-4b96-9224-33f4673b8906": {
     "id": "31913634-eb4b-4b96-9224-33f4673b8906",
     "prev": "25b35d5b-03e9-44f1-804c-f3042e46de39",
     "regions": {
      "453b4992-e9fc-41da-adc5-62525188245d": {
       "attrs": {
        "height": 0.8,
        "width": 0.8,
        "x": 0.1,
        "y": 0.1
       },
       "content": {
        "cell": "86bac1cf-db37-439a-96f1-344e1c38f63f",
        "part": "whole"
       },
       "id": "453b4992-e9fc-41da-adc5-62525188245d"
      }
     }
    },
    "322da08d-f117-4218-ac06-657f76b8b8fe": {
     "id": "322da08d-f117-4218-ac06-657f76b8b8fe",
     "prev": "c5dce583-5554-4c1a-ba93-0b76113f0c61",
     "regions": {
      "3209983e-5729-47c8-bd3f-d064b59c9dd4": {
       "attrs": {
        "height": 0.8,
        "width": 0.8,
        "x": 0.1,
        "y": 0.1
       },
       "content": {
        "cell": "0d7e7152-3df9-410c-b5bd-3984a5513121",
        "part": "whole"
       },
       "id": "3209983e-5729-47c8-bd3f-d064b59c9dd4"
      }
     }
    },
    "341340b3-2a08-4fa1-9294-9ac5481b9815": {
     "id": "341340b3-2a08-4fa1-9294-9ac5481b9815",
     "prev": "b4509f88-433c-415b-a70e-c09398dde411",
     "regions": {
      "bdc99559-7436-44ab-896a-be5a78733c1f": {
       "attrs": {
        "height": 0.8,
        "width": 0.8,
        "x": 0.1,
        "y": 0.1
       },
       "content": {
        "cell": "9013f78e-fa4a-4fc2-a73a-ac0af44cef30",
        "part": "whole"
       },
       "id": "bdc99559-7436-44ab-896a-be5a78733c1f"
      }
     }
    },
    "35897e86-d3a4-410c-b18d-5680580e58cf": {
     "id": "35897e86-d3a4-410c-b18d-5680580e58cf",
     "prev": "43b7d348-b89e-47b1-806d-938ef3b8a941",
     "regions": {
      "2514c685-d322-48bd-8e1e-1f1007da7924": {
       "attrs": {
        "height": 0.8,
        "width": 0.8,
        "x": 0.1,
        "y": 0.1
       },
       "content": {
        "cell": "c24f6a17-b6d5-4954-b381-99fadd50093b",
        "part": "whole"
       },
       "id": "2514c685-d322-48bd-8e1e-1f1007da7924"
      }
     }
    },
    "35b6618a-4fc6-49d5-a04f-37d25ae69a0b": {
     "id": "35b6618a-4fc6-49d5-a04f-37d25ae69a0b",
     "prev": "e7a13532-02ce-4c53-b0fa-dcfcc56f57f5",
     "regions": {
      "a6098781-4a71-4328-b84c-b98e9660c6eb": {
       "attrs": {
        "height": 0.8,
        "width": 0.8,
        "x": 0.1,
        "y": 0.1
       },
       "content": {
        "cell": "31edd43e-b9f7-4634-98bf-b4e4f4c3b4dd",
        "part": "whole"
       },
       "id": "a6098781-4a71-4328-b84c-b98e9660c6eb"
      }
     }
    },
    "36959ef7-7124-4e58-a180-f9a9ef19a94c": {
     "id": "36959ef7-7124-4e58-a180-f9a9ef19a94c",
     "prev": "c1dc0206-1024-4d56-8436-0a140a8aab5f",
     "regions": {
      "32e91a74-727e-40df-b5b6-579ffafa7086": {
       "attrs": {
        "height": 0.8,
        "width": 0.8,
        "x": 0.1,
        "y": 0.1
       },
       "content": {
        "cell": "5e1fb1e2-db3d-459b-a3ba-8d10027cfc85",
        "part": "whole"
       },
       "id": "32e91a74-727e-40df-b5b6-579ffafa7086"
      }
     }
    },
    "388d5bce-b5bd-489d-b977-4fa3692cc200": {
     "id": "388d5bce-b5bd-489d-b977-4fa3692cc200",
     "prev": "452f511c-c066-4bc9-b077-8571633e3e59",
     "regions": {
      "edaaa90c-d312-48a0-965c-615110e2e3a7": {
       "attrs": {
        "height": 0.8,
        "width": 0.8,
        "x": 0.1,
        "y": 0.1
       },
       "content": {
        "cell": "7786af5d-a942-4956-a053-1795c9ebe949",
        "part": "whole"
       },
       "id": "edaaa90c-d312-48a0-965c-615110e2e3a7"
      }
     }
    },
    "391b267e-f20c-46bb-90dc-27489d3552af": {
     "id": "391b267e-f20c-46bb-90dc-27489d3552af",
     "prev": "e17dc25a-dd4b-4916-af0c-1c7bef0aa06f",
     "regions": {
      "2658186f-8976-4047-811c-4d8d5823688c": {
       "attrs": {
        "height": 0.8,
        "width": 0.8,
        "x": 0.1,
        "y": 0.1
       },
       "content": {
        "cell": "2b8de903-e6f7-44b0-8345-bb0b39b3ef91",
        "part": "whole"
       },
       "id": "2658186f-8976-4047-811c-4d8d5823688c"
      }
     }
    },
    "3aceb481-93bb-49dc-8b7f-a03354678d5e": {
     "id": "3aceb481-93bb-49dc-8b7f-a03354678d5e",
     "prev": "388d5bce-b5bd-489d-b977-4fa3692cc200",
     "regions": {
      "ee7ccc88-8a35-4018-8121-9c93b21f338d": {
       "attrs": {
        "height": 0.8,
        "width": 0.8,
        "x": 0.1,
        "y": 0.1
       },
       "content": {
        "cell": "4d612ae4-b2fe-497e-ac5f-367bcb27e7b3",
        "part": "whole"
       },
       "id": "ee7ccc88-8a35-4018-8121-9c93b21f338d"
      }
     }
    },
    "3bf8d1ab-5513-47d5-815e-a489787b5700": {
     "id": "3bf8d1ab-5513-47d5-815e-a489787b5700",
     "prev": "25b60775-1205-489d-b0b1-e1c53fad95b8",
     "regions": {
      "1bc5822f-632b-43e8-b1ea-f93c17ddd8d3": {
       "attrs": {
        "height": 0.8,
        "width": 0.8,
        "x": 0.1,
        "y": 0.1
       },
       "content": {
        "cell": "fb0d09b8-b09e-4358-80f4-c146d040d0fc",
        "part": "whole"
       },
       "id": "1bc5822f-632b-43e8-b1ea-f93c17ddd8d3"
      }
     }
    },
    "3f86b8d0-2163-4108-bccd-9d7a548d0777": {
     "id": "3f86b8d0-2163-4108-bccd-9d7a548d0777",
     "prev": "9a9e1e7f-4adb-49c5-aee4-9ad0a965024b",
     "regions": {
      "8b46a43d-4870-4cc5-b956-57c92080fcd5": {
       "attrs": {
        "height": 0.8,
        "width": 0.8,
        "x": 0.1,
        "y": 0.1
       },
       "content": {
        "cell": "0607bb86-2370-4acf-8795-32d267266b6a",
        "part": "whole"
       },
       "id": "8b46a43d-4870-4cc5-b956-57c92080fcd5"
      }
     }
    },
    "3f97e82f-80ff-4199-bf60-51cdb5ad741d": {
     "id": "3f97e82f-80ff-4199-bf60-51cdb5ad741d",
     "prev": "b8e1e587-5579-43fe-a77b-c768cb06a9b9",
     "regions": {
      "b0cffe80-e309-4b31-aaba-d31c6ae1c586": {
       "attrs": {
        "height": 0.8,
        "width": 0.8,
        "x": 0.1,
        "y": 0.1
       },
       "content": {
        "cell": "27a57c79-e334-4ec4-9d65-49fb2556678c",
        "part": "whole"
       },
       "id": "b0cffe80-e309-4b31-aaba-d31c6ae1c586"
      }
     }
    },
    "41a3722f-e465-439f-82d2-2fc4c3009021": {
     "id": "41a3722f-e465-439f-82d2-2fc4c3009021",
     "prev": "15ec785f-fca9-420b-a47b-c090571b8bcb",
     "regions": {
      "eedd026a-5d20-4c30-94fe-d97c2941d5e6": {
       "attrs": {
        "height": 0.8,
        "width": 0.8,
        "x": 0.1,
        "y": 0.1
       },
       "content": {
        "cell": "972d6ddb-635c-4195-b8e1-7af57621227e",
        "part": "whole"
       },
       "id": "eedd026a-5d20-4c30-94fe-d97c2941d5e6"
      }
     }
    },
    "4309d315-b76a-497b-9600-0ff95712515f": {
     "id": "4309d315-b76a-497b-9600-0ff95712515f",
     "prev": "650394a8-9f31-47ec-b422-27f317624439",
     "regions": {
      "cd5d39bf-cbcf-4ec3-9524-8db3ceb25535": {
       "attrs": {
        "height": 0.8,
        "width": 0.8,
        "x": 0.1,
        "y": 0.1
       },
       "content": {
        "cell": "d709c678-f640-4b40-814d-19942c5fc30a",
        "part": "whole"
       },
       "id": "cd5d39bf-cbcf-4ec3-9524-8db3ceb25535"
      }
     }
    },
    "43340066-b3b1-4ebc-9a24-42a418fcac28": {
     "id": "43340066-b3b1-4ebc-9a24-42a418fcac28",
     "prev": "da170808-c458-43a5-809f-563f06f07e96",
     "regions": {
      "648b6798-c3f0-41c6-a8ad-66ea2d307bb0": {
       "attrs": {
        "height": 0.8,
        "width": 0.8,
        "x": 0.1,
        "y": 0.1
       },
       "content": {
        "cell": "8ecfaa08-e021-47ed-a9d7-251afc273ea2",
        "part": "whole"
       },
       "id": "648b6798-c3f0-41c6-a8ad-66ea2d307bb0"
      }
     }
    },
    "43b7d348-b89e-47b1-806d-938ef3b8a941": {
     "id": "43b7d348-b89e-47b1-806d-938ef3b8a941",
     "prev": "1be0d281-8b58-4449-9fba-2679e9dd4349",
     "regions": {
      "e6b0c3ce-4750-416c-ab6c-93ac8467a3ea": {
       "attrs": {
        "height": 0.8,
        "width": 0.8,
        "x": 0.1,
        "y": 0.1
       },
       "content": {
        "cell": "8d557475-5e80-4346-b771-2277c3f6270f",
        "part": "whole"
       },
       "id": "e6b0c3ce-4750-416c-ab6c-93ac8467a3ea"
      }
     }
    },
    "452f511c-c066-4bc9-b077-8571633e3e59": {
     "id": "452f511c-c066-4bc9-b077-8571633e3e59",
     "prev": "0ff1de19-b30c-462a-b88b-829f95323aa2",
     "regions": {
      "4901b8e3-8d93-4312-ba9e-a730f2cca044": {
       "attrs": {
        "height": 0.8,
        "width": 0.8,
        "x": 0.1,
        "y": 0.1
       },
       "content": {
        "cell": "4d94231f-581a-481c-9ca1-3fcd7677319f",
        "part": "whole"
       },
       "id": "4901b8e3-8d93-4312-ba9e-a730f2cca044"
      }
     }
    },
    "496d1b00-790d-491a-971c-ecfbc27bcfbd": {
     "id": "496d1b00-790d-491a-971c-ecfbc27bcfbd",
     "prev": "f3b7233b-c3ec-4312-b974-ad4ffba5c100",
     "regions": {
      "e5c9db50-eaac-46e0-9a25-601808d84c5c": {
       "attrs": {
        "height": 0.8,
        "width": 0.8,
        "x": 0.1,
        "y": 0.1
       },
       "content": {
        "cell": "70224212-e675-4809-a69e-514a5410ab21",
        "part": "whole"
       },
       "id": "e5c9db50-eaac-46e0-9a25-601808d84c5c"
      }
     }
    },
    "49d42ab1-d9e1-4b3f-9752-e03077665a70": {
     "id": "49d42ab1-d9e1-4b3f-9752-e03077665a70",
     "prev": "00a1ba8e-6a93-443f-8988-22e4849f31f4",
     "regions": {
      "8f4d1256-8644-42f4-b837-02ae23ae9ffc": {
       "attrs": {
        "height": 0.8,
        "width": 0.8,
        "x": 0.1,
        "y": 0.1
       },
       "content": {
        "cell": "468fe855-020b-4acb-9567-98efd0fe6f84",
        "part": "whole"
       },
       "id": "8f4d1256-8644-42f4-b837-02ae23ae9ffc"
      }
     }
    },
    "52987e97-d229-4fd0-b495-8fc565a1038e": {
     "id": "52987e97-d229-4fd0-b495-8fc565a1038e",
     "prev": "22a68641-4113-4eff-ab82-3fbc5c6ec1b8",
     "regions": {
      "ef5c313a-709d-41d7-b516-9d7400fa2bda": {
       "attrs": {
        "height": 0.8,
        "width": 0.8,
        "x": 0.1,
        "y": 0.1
       },
       "content": {
        "cell": "e02856a6-1065-404c-a364-5e628d909958",
        "part": "whole"
       },
       "id": "ef5c313a-709d-41d7-b516-9d7400fa2bda"
      }
     }
    },
    "57b43f33-f3f7-456e-9efb-dfec632272f7": {
     "id": "57b43f33-f3f7-456e-9efb-dfec632272f7",
     "prev": "f6e3b4e8-0cd6-4cbe-93f6-3c0532862701",
     "regions": {
      "8dcc3518-4fc9-4a0f-a75f-c24ed61b34cd": {
       "attrs": {
        "height": 0.8,
        "width": 0.8,
        "x": 0.1,
        "y": 0.1
       },
       "content": {
        "cell": "cfb9f1bc-06a5-44cb-a4ef-13665d721f35",
        "part": "whole"
       },
       "id": "8dcc3518-4fc9-4a0f-a75f-c24ed61b34cd"
      }
     }
    },
    "58354c26-8c54-4cdd-9c9f-1d3ae58b8ab8": {
     "id": "58354c26-8c54-4cdd-9c9f-1d3ae58b8ab8",
     "prev": "c5c49177-1df4-45ed-aed4-2b4fc7ec2f5f",
     "regions": {
      "a0a92fc9-8f56-47ad-a84b-b23417d8c50a": {
       "attrs": {
        "height": 0.8,
        "width": 0.8,
        "x": 0.1,
        "y": 0.1
       },
       "content": {
        "cell": "6de7e90d-6d05-4c84-8d65-91c212bd1106",
        "part": "whole"
       },
       "id": "a0a92fc9-8f56-47ad-a84b-b23417d8c50a"
      }
     }
    },
    "5e3c4c06-2124-4ec0-bde7-45c9b1db376b": {
     "id": "5e3c4c06-2124-4ec0-bde7-45c9b1db376b",
     "prev": "0158b225-8bd7-4fa8-a1f4-ebed1b2fe872",
     "regions": {
      "7cf6acf8-8a48-4282-9430-31c7f1f02469": {
       "attrs": {
        "height": 0.8,
        "width": 0.8,
        "x": 0.1,
        "y": 0.1
       },
       "content": {
        "cell": "94d8eab7-8896-4c56-99cb-bfd1d2f813e2",
        "part": "whole"
       },
       "id": "7cf6acf8-8a48-4282-9430-31c7f1f02469"
      }
     }
    },
    "650394a8-9f31-47ec-b422-27f317624439": {
     "id": "650394a8-9f31-47ec-b422-27f317624439",
     "prev": "35897e86-d3a4-410c-b18d-5680580e58cf",
     "regions": {
      "06be641b-2153-45d8-9821-bc3b936c337f": {
       "attrs": {
        "height": 0.8,
        "width": 0.8,
        "x": 0.1,
        "y": 0.1
       },
       "content": {
        "cell": "2fa0c0b3-3603-481c-8b98-6287fe9069bf",
        "part": "whole"
       },
       "id": "06be641b-2153-45d8-9821-bc3b936c337f"
      }
     }
    },
    "6fb3983c-483f-4cf5-83a0-d43d5f2f37a6": {
     "id": "6fb3983c-483f-4cf5-83a0-d43d5f2f37a6",
     "prev": "db0b2f25-18c1-4a2e-8f6b-04343c3714ee",
     "regions": {
      "ebfa5882-6361-493c-ae2c-2e1bc37be30c": {
       "attrs": {
        "height": 0.8,
        "width": 0.8,
        "x": 0.1,
        "y": 0.1
       },
       "content": {
        "cell": "49c0c85d-2c93-4353-adcf-e1bbe9b340ce",
        "part": "whole"
       },
       "id": "ebfa5882-6361-493c-ae2c-2e1bc37be30c"
      }
     }
    },
    "75132973-dae8-414c-987a-89fc4e25190f": {
     "id": "75132973-dae8-414c-987a-89fc4e25190f",
     "prev": "496d1b00-790d-491a-971c-ecfbc27bcfbd",
     "regions": {
      "56129281-c0e0-410e-ad8d-991b381b4001": {
       "attrs": {
        "height": 0.8,
        "width": 0.8,
        "x": 0.1,
        "y": 0.1
       },
       "content": {
        "cell": "b05cd720-0b75-4548-91bb-2d78e2b9afa9",
        "part": "whole"
       },
       "id": "56129281-c0e0-410e-ad8d-991b381b4001"
      }
     }
    },
    "778f5afb-6fb4-45de-8ddf-1014bb218af6": {
     "id": "778f5afb-6fb4-45de-8ddf-1014bb218af6",
     "prev": "17578093-fadb-4cbb-808f-d7420487feda",
     "regions": {
      "f2dfa11e-1fa8-4aa9-89f0-12c512ef718b": {
       "attrs": {
        "height": 0.8,
        "width": 0.8,
        "x": 0.1,
        "y": 0.1
       },
       "content": {
        "cell": "d0e3545f-d6a9-447a-afd0-b81ea93947d4",
        "part": "whole"
       },
       "id": "f2dfa11e-1fa8-4aa9-89f0-12c512ef718b"
      }
     }
    },
    "86ec9f1d-1317-4539-a4c3-cff0a53d8aae": {
     "id": "86ec9f1d-1317-4539-a4c3-cff0a53d8aae",
     "prev": "3bf8d1ab-5513-47d5-815e-a489787b5700",
     "regions": {
      "b85583e6-a0e5-461d-8368-2ef8dab3b66e": {
       "attrs": {
        "height": 0.8,
        "width": 0.8,
        "x": 0.1,
        "y": 0.1
       },
       "content": {
        "cell": "ce45d3be-2428-41dd-b05d-a34be30aa3a5",
        "part": "whole"
       },
       "id": "b85583e6-a0e5-461d-8368-2ef8dab3b66e"
      }
     }
    },
    "992a027c-bae9-495a-890e-99dcb26b57a0": {
     "id": "992a027c-bae9-495a-890e-99dcb26b57a0",
     "prev": "27dc4790-f908-4b64-a210-8f65b166a6c0",
     "regions": {
      "1bf0bc32-ebd4-459b-91bb-1fb586c24904": {
       "attrs": {
        "height": 0.8,
        "width": 0.8,
        "x": 0.1,
        "y": 0.1
       },
       "content": {
        "cell": "1cffeba4-8c07-4185-820b-4be618c83126",
        "part": "whole"
       },
       "id": "1bf0bc32-ebd4-459b-91bb-1fb586c24904"
      }
     }
    },
    "9957c4cb-5cc1-48ed-9f0e-44b39b9d0c1d": {
     "id": "9957c4cb-5cc1-48ed-9f0e-44b39b9d0c1d",
     "prev": null,
     "regions": {
      "8ad00bc4-56ca-495c-b571-aa59003ddcfa": {
       "attrs": {
        "height": 0.8,
        "width": 0.8,
        "x": 0.1,
        "y": 0.1
       },
       "content": {
        "cell": "2cb23c01-53e3-406c-8859-70178b8586a0",
        "part": "whole"
       },
       "id": "8ad00bc4-56ca-495c-b571-aa59003ddcfa"
      }
     }
    },
    "9a9e1e7f-4adb-49c5-aee4-9ad0a965024b": {
     "id": "9a9e1e7f-4adb-49c5-aee4-9ad0a965024b",
     "prev": "16a4cbcb-d5cc-4717-af46-038fe655586e",
     "regions": {
      "ba67905b-ddaa-4df9-af4a-6ff1f8b16f5b": {
       "attrs": {
        "height": 0.8,
        "width": 0.8,
        "x": 0.1,
        "y": 0.1
       },
       "content": {
        "cell": "094f05ce-f64f-4bb6-b8c7-19f795d136e5",
        "part": "whole"
       },
       "id": "ba67905b-ddaa-4df9-af4a-6ff1f8b16f5b"
      }
     }
    },
    "9c3b6ba1-85de-4b1f-a42a-22193b09e626": {
     "id": "9c3b6ba1-85de-4b1f-a42a-22193b09e626",
     "prev": "1fdd5cb2-2ed3-44e8-a1de-f6b85f5d97b1",
     "regions": {
      "db0e356a-2458-42a6-b9a8-73d40fe0c417": {
       "attrs": {
        "height": 0.8,
        "width": 0.8,
        "x": 0.1,
        "y": 0.1
       },
       "content": {
        "cell": "1764779e-811a-41b0-9776-73e5c4902b0a",
        "part": "whole"
       },
       "id": "db0e356a-2458-42a6-b9a8-73d40fe0c417"
      }
     }
    },
    "9e1085f1-60a3-447b-9404-2d29b949affb": {
     "id": "9e1085f1-60a3-447b-9404-2d29b949affb",
     "prev": "58354c26-8c54-4cdd-9c9f-1d3ae58b8ab8",
     "regions": {
      "bb7be208-b791-487e-8dfa-7ba9e47ab6b9": {
       "attrs": {
        "height": 0.8,
        "width": 0.8,
        "x": 0.1,
        "y": 0.1
       },
       "content": {
        "cell": "00fac9f4-0be9-4b23-a642-68769cd0350c",
        "part": "whole"
       },
       "id": "bb7be208-b791-487e-8dfa-7ba9e47ab6b9"
      }
     }
    },
    "a8177869-85a3-4af1-8271-a97be2d240de": {
     "id": "a8177869-85a3-4af1-8271-a97be2d240de",
     "prev": "08fd4d00-1068-41e1-95c0-4fda50548a67",
     "regions": {
      "5f2b1b01-8968-49ca-b0eb-6ef483ac4ca8": {
       "attrs": {
        "height": 0.8,
        "width": 0.8,
        "x": 0.1,
        "y": 0.1
       },
       "content": {
        "cell": "caf0411e-2266-459a-be71-ca2edcf701fc",
        "part": "whole"
       },
       "id": "5f2b1b01-8968-49ca-b0eb-6ef483ac4ca8"
      }
     }
    },
    "a8404e8b-88b2-4d4e-a260-1863483c55bb": {
     "id": "a8404e8b-88b2-4d4e-a260-1863483c55bb",
     "prev": "4309d315-b76a-497b-9600-0ff95712515f",
     "regions": {
      "8636085a-0f9b-41ac-904e-415e7190f39f": {
       "attrs": {
        "height": 0.8,
        "width": 0.8,
        "x": 0.1,
        "y": 0.1
       },
       "content": {
        "cell": "e536adec-2090-4c5e-b3d1-8750078769eb",
        "part": "whole"
       },
       "id": "8636085a-0f9b-41ac-904e-415e7190f39f"
      }
     }
    },
    "b1593d4d-57a7-4cf6-b8a3-bd1d4671e193": {
     "id": "b1593d4d-57a7-4cf6-b8a3-bd1d4671e193",
     "prev": "1c9b98ed-e87d-48bb-bed6-1419e1a5ed51",
     "regions": {
      "dc42a8f4-ac06-47a4-9b71-2ec5048ceeb9": {
       "attrs": {
        "height": 0.8,
        "width": 0.8,
        "x": 0.1,
        "y": 0.1
       },
       "content": {
        "cell": "a8ae95ea-93e1-4df6-9356-29d92d369ed9",
        "part": "whole"
       },
       "id": "dc42a8f4-ac06-47a4-9b71-2ec5048ceeb9"
      }
     }
    },
    "b2dec1e1-0c2b-451c-b861-5e4d2f1c4d55": {
     "id": "b2dec1e1-0c2b-451c-b861-5e4d2f1c4d55",
     "prev": "341340b3-2a08-4fa1-9294-9ac5481b9815",
     "regions": {
      "55042988-4f72-4fc9-9db8-3fc45722cff2": {
       "attrs": {
        "height": 0.8,
        "width": 0.8,
        "x": 0.1,
        "y": 0.1
       },
       "content": {
        "cell": "a8544e59-ea28-4771-b757-18062aded711",
        "part": "whole"
       },
       "id": "55042988-4f72-4fc9-9db8-3fc45722cff2"
      }
     }
    },
    "b4509f88-433c-415b-a70e-c09398dde411": {
     "id": "b4509f88-433c-415b-a70e-c09398dde411",
     "prev": "25d8fb62-9b05-499c-8b2d-a074b626beb7",
     "regions": {
      "1c9c31a4-a72f-40c9-b415-2bc0e7f287d9": {
       "attrs": {
        "height": 0.8,
        "width": 0.8,
        "x": 0.1,
        "y": 0.1
       },
       "content": {
        "cell": "64520e9e-cf52-4410-a4f9-22bddd964e57",
        "part": "whole"
       },
       "id": "1c9c31a4-a72f-40c9-b415-2bc0e7f287d9"
      }
     }
    },
    "b49ed809-9386-4150-a847-f6d169c954d2": {
     "id": "b49ed809-9386-4150-a847-f6d169c954d2",
     "prev": "9c3b6ba1-85de-4b1f-a42a-22193b09e626",
     "regions": {
      "7af4c1a7-aa3f-40a4-a07d-8ceab5ac1f21": {
       "attrs": {
        "height": 0.8,
        "width": 0.8,
        "x": 0.1,
        "y": 0.1
       },
       "content": {
        "cell": "5a91d893-5d6e-41af-9eef-d22a769d0947",
        "part": "whole"
       },
       "id": "7af4c1a7-aa3f-40a4-a07d-8ceab5ac1f21"
      }
     }
    },
    "b8e1e587-5579-43fe-a77b-c768cb06a9b9": {
     "id": "b8e1e587-5579-43fe-a77b-c768cb06a9b9",
     "prev": "a8404e8b-88b2-4d4e-a260-1863483c55bb",
     "regions": {
      "c4281441-9408-4d70-a598-2d5549be350f": {
       "attrs": {
        "height": 0.8,
        "width": 0.8,
        "x": 0.1,
        "y": 0.1
       },
       "content": {
        "cell": "6eeebfb2-ba3f-498e-a469-0e26c0af90b0",
        "part": "whole"
       },
       "id": "c4281441-9408-4d70-a598-2d5549be350f"
      }
     }
    },
    "b9a09c9c-fb6b-4523-9684-27b777fbb2a4": {
     "id": "b9a09c9c-fb6b-4523-9684-27b777fbb2a4",
     "prev": "9957c4cb-5cc1-48ed-9f0e-44b39b9d0c1d",
     "regions": {
      "c75de92f-8494-40c3-9215-96aae0819ac2": {
       "attrs": {
        "height": 0.8,
        "width": 0.8,
        "x": 0.1,
        "y": 0.1
       },
       "content": {
        "cell": "bfaf6ef2-5261-4bbd-be33-edc09c54244d",
        "part": "whole"
       },
       "id": "c75de92f-8494-40c3-9215-96aae0819ac2"
      }
     }
    },
    "c1dc0206-1024-4d56-8436-0a140a8aab5f": {
     "id": "c1dc0206-1024-4d56-8436-0a140a8aab5f",
     "prev": "a8177869-85a3-4af1-8271-a97be2d240de",
     "regions": {
      "067bbc9b-5c30-432c-abcc-5d7547e37f23": {
       "attrs": {
        "height": 0.8,
        "width": 0.8,
        "x": 0.1,
        "y": 0.1
       },
       "content": {
        "cell": "48bb7946-eb8b-485b-9c17-c19374c0d011",
        "part": "whole"
       },
       "id": "067bbc9b-5c30-432c-abcc-5d7547e37f23"
      }
     }
    },
    "c5c49177-1df4-45ed-aed4-2b4fc7ec2f5f": {
     "id": "c5c49177-1df4-45ed-aed4-2b4fc7ec2f5f",
     "prev": "dbee7a73-f293-4cf7-a26d-40fc3d9cd34c",
     "regions": {
      "2c2a5514-d327-4329-8671-ac2f877caaff": {
       "attrs": {
        "height": 0.8,
        "width": 0.8,
        "x": 0.1,
        "y": 0.1
       },
       "content": {
        "cell": "83b8618d-20a9-4bbe-8b1a-cd204d43e49e",
        "part": "whole"
       },
       "id": "2c2a5514-d327-4329-8671-ac2f877caaff"
      }
     }
    },
    "c5dce583-5554-4c1a-ba93-0b76113f0c61": {
     "id": "c5dce583-5554-4c1a-ba93-0b76113f0c61",
     "prev": "3aceb481-93bb-49dc-8b7f-a03354678d5e",
     "regions": {
      "1ef2363d-6392-4926-97cf-17d77fbe3779": {
       "attrs": {
        "height": 0.8,
        "width": 0.8,
        "x": 0.1,
        "y": 0.1
       },
       "content": {
        "cell": "036cfffc-c795-440d-91e2-c18db581fa71",
        "part": "whole"
       },
       "id": "1ef2363d-6392-4926-97cf-17d77fbe3779"
      }
     }
    },
    "cdfc5df9-d114-4f4b-863d-06f053b8bcfa": {
     "id": "cdfc5df9-d114-4f4b-863d-06f053b8bcfa",
     "prev": "86ec9f1d-1317-4539-a4c3-cff0a53d8aae",
     "regions": {
      "e9d5d744-fc2c-490a-a5a2-bf5cb5625bc0": {
       "attrs": {
        "height": 0.8,
        "width": 0.8,
        "x": 0.1,
        "y": 0.1
       },
       "content": {
        "cell": "eec8ce0e-1ba2-4e84-9dfe-b4e2388707f4",
        "part": "whole"
       },
       "id": "e9d5d744-fc2c-490a-a5a2-bf5cb5625bc0"
      }
     }
    },
    "da170808-c458-43a5-809f-563f06f07e96": {
     "id": "da170808-c458-43a5-809f-563f06f07e96",
     "prev": "9e1085f1-60a3-447b-9404-2d29b949affb",
     "regions": {
      "39ea5f1c-4426-4058-8a23-9c54958067b6": {
       "attrs": {
        "height": 0.8,
        "width": 0.8,
        "x": 0.1,
        "y": 0.1
       },
       "content": {
        "cell": "90d5f668-5d33-4ad3-bf3c-b2af31dc9258",
        "part": "whole"
       },
       "id": "39ea5f1c-4426-4058-8a23-9c54958067b6"
      }
     }
    },
    "db0b2f25-18c1-4a2e-8f6b-04343c3714ee": {
     "id": "db0b2f25-18c1-4a2e-8f6b-04343c3714ee",
     "prev": "e324d4f3-9964-4451-8ffb-87846967d734",
     "regions": {
      "5beea651-1e0e-4639-9eba-cd83d3e073b6": {
       "attrs": {
        "height": 0.8,
        "width": 0.8,
        "x": 0.1,
        "y": 0.1
       },
       "content": {
        "cell": "7d84b86c-07be-45cd-b093-9aab9d7672cd",
        "part": "whole"
       },
       "id": "5beea651-1e0e-4639-9eba-cd83d3e073b6"
      }
     }
    },
    "dbee7a73-f293-4cf7-a26d-40fc3d9cd34c": {
     "id": "dbee7a73-f293-4cf7-a26d-40fc3d9cd34c",
     "prev": "0005be62-ca46-4256-a2f0-f65f5c79b399",
     "regions": {
      "de8226da-32ba-4799-a701-702135e69106": {
       "attrs": {
        "height": 0.8,
        "width": 0.8,
        "x": 0.1,
        "y": 0.1
       },
       "content": {
        "cell": "d837058e-3c16-41fe-a49e-ddf20073ac1c",
        "part": "whole"
       },
       "id": "de8226da-32ba-4799-a701-702135e69106"
      }
     }
    },
    "e0d77f20-1391-405f-a9eb-4ad897a5877e": {
     "id": "e0d77f20-1391-405f-a9eb-4ad897a5877e",
     "prev": "35b6618a-4fc6-49d5-a04f-37d25ae69a0b",
     "regions": {
      "1835d968-e46a-42a2-bca8-e5c24abbe5a5": {
       "attrs": {
        "height": 0.8,
        "width": 0.8,
        "x": 0.1,
        "y": 0.1
       },
       "content": {
        "cell": "08eb27e8-ad0d-4f75-9b36-f5feb6571a03",
        "part": "whole"
       },
       "id": "1835d968-e46a-42a2-bca8-e5c24abbe5a5"
      }
     }
    },
    "e17dc25a-dd4b-4916-af0c-1c7bef0aa06f": {
     "id": "e17dc25a-dd4b-4916-af0c-1c7bef0aa06f",
     "prev": "ea024f2b-a4bb-4a32-a3d7-5abd8a43f66b",
     "regions": {
      "4c06238f-1c93-491c-ad6f-ad977196a894": {
       "attrs": {
        "height": 0.8,
        "width": 0.8,
        "x": 0.1,
        "y": 0.1
       },
       "content": {
        "cell": "988a6999-135d-4001-85b1-75cf73a622ae",
        "part": "whole"
       },
       "id": "4c06238f-1c93-491c-ad6f-ad977196a894"
      }
     }
    },
    "e324d4f3-9964-4451-8ffb-87846967d734": {
     "id": "e324d4f3-9964-4451-8ffb-87846967d734",
     "prev": "2603025e-4757-4bb9-9516-74804d91fa33",
     "regions": {
      "cf317823-25e3-40e1-aeb2-e94ee24eda5f": {
       "attrs": {
        "height": 0.8,
        "width": 0.8,
        "x": 0.1,
        "y": 0.1
       },
       "content": {
        "cell": "4f567ded-6b0c-4600-90e0-3908cfa1f334",
        "part": "whole"
       },
       "id": "cf317823-25e3-40e1-aeb2-e94ee24eda5f"
      }
     }
    },
    "e4d36269-e388-4327-988c-8b3c09972041": {
     "id": "e4d36269-e388-4327-988c-8b3c09972041",
     "prev": "75132973-dae8-414c-987a-89fc4e25190f",
     "regions": {
      "ed77843e-3ef3-49a7-9b21-5c889a686241": {
       "attrs": {
        "height": 0.8,
        "width": 0.8,
        "x": 0.1,
        "y": 0.1
       },
       "content": {
        "cell": "9afd2844-2ddd-48af-b5ba-b88fec7558c4",
        "part": "whole"
       },
       "id": "ed77843e-3ef3-49a7-9b21-5c889a686241"
      }
     }
    },
    "e7a13532-02ce-4c53-b0fa-dcfcc56f57f5": {
     "id": "e7a13532-02ce-4c53-b0fa-dcfcc56f57f5",
     "prev": "1d9495df-19ea-4c62-82ff-024b9eb685e6",
     "regions": {
      "38298ba0-0c70-4275-89ba-9884960116c8": {
       "attrs": {
        "height": 0.8,
        "width": 0.8,
        "x": 0.1,
        "y": 0.1
       },
       "content": {
        "cell": "9bb14f34-99c2-4020-8b14-4f9e201c928c",
        "part": "whole"
       },
       "id": "38298ba0-0c70-4275-89ba-9884960116c8"
      }
     }
    },
    "ea024f2b-a4bb-4a32-a3d7-5abd8a43f66b": {
     "id": "ea024f2b-a4bb-4a32-a3d7-5abd8a43f66b",
     "prev": "41a3722f-e465-439f-82d2-2fc4c3009021",
     "regions": {
      "aec62a10-669d-4964-bf86-ed78ab086f66": {
       "attrs": {
        "height": 0.8,
        "width": 0.8,
        "x": 0.1,
        "y": 0.1
       },
       "content": {
        "cell": "71d3a95a-5650-4328-8b64-1794a4f4c4c4",
        "part": "whole"
       },
       "id": "aec62a10-669d-4964-bf86-ed78ab086f66"
      }
     }
    },
    "f2650b7a-4b0f-49e5-b25c-91337a9f3170": {
     "id": "f2650b7a-4b0f-49e5-b25c-91337a9f3170",
     "prev": "43340066-b3b1-4ebc-9a24-42a418fcac28",
     "regions": {
      "d5865101-a97c-4359-b6d2-a949a93abdf2": {
       "attrs": {
        "height": 0.8,
        "width": 0.8,
        "x": 0.1,
        "y": 0.1
       },
       "content": {
        "cell": "bc182e5f-bb6a-4eaf-bd8d-cfe977d0edbb",
        "part": "whole"
       },
       "id": "d5865101-a97c-4359-b6d2-a949a93abdf2"
      }
     }
    },
    "f339c6a6-1491-4bb2-936d-873c49ad27bd": {
     "id": "f339c6a6-1491-4bb2-936d-873c49ad27bd",
     "prev": "6fb3983c-483f-4cf5-83a0-d43d5f2f37a6",
     "regions": {
      "075b038d-cddc-483c-b87a-30e691532513": {
       "attrs": {
        "height": 0.8,
        "width": 0.8,
        "x": 0.1,
        "y": 0.1
       },
       "content": {
        "cell": "c04ff608-c03b-49de-a298-e25b1701dcc7",
        "part": "whole"
       },
       "id": "075b038d-cddc-483c-b87a-30e691532513"
      }
     }
    },
    "f3b7233b-c3ec-4312-b974-ad4ffba5c100": {
     "id": "f3b7233b-c3ec-4312-b974-ad4ffba5c100",
     "prev": "52987e97-d229-4fd0-b495-8fc565a1038e",
     "regions": {
      "0fbcd454-8aa5-490e-9da1-8cb27d3d8d92": {
       "attrs": {
        "height": 0.8,
        "width": 0.8,
        "x": 0.1,
        "y": 0.1
       },
       "content": {
        "cell": "64239999-827c-4568-8f5b-1b4d1057fc18",
        "part": "whole"
       },
       "id": "0fbcd454-8aa5-490e-9da1-8cb27d3d8d92"
      }
     }
    },
    "f6e3b4e8-0cd6-4cbe-93f6-3c0532862701": {
     "id": "f6e3b4e8-0cd6-4cbe-93f6-3c0532862701",
     "prev": "992a027c-bae9-495a-890e-99dcb26b57a0",
     "regions": {
      "f7f180f2-454b-4c6a-82d4-345a01244816": {
       "attrs": {
        "height": 0.8,
        "width": 0.8,
        "x": 0.1,
        "y": 0.1
       },
       "content": {
        "cell": "b28f86b1-92dc-4d4b-9826-8c843db7eb3b",
        "part": "whole"
       },
       "id": "f7f180f2-454b-4c6a-82d4-345a01244816"
      }
     }
    },
    "fb78598d-0441-40d2-9156-454f721a4717": {
     "id": "fb78598d-0441-40d2-9156-454f721a4717",
     "prev": "f2650b7a-4b0f-49e5-b25c-91337a9f3170",
     "regions": {
      "9737a4f4-ab6c-4dc4-ab03-a5baecaaed4e": {
       "attrs": {
        "height": 0.8,
        "width": 0.8,
        "x": 0.1,
        "y": 0.1
       },
       "content": {
        "cell": "254f8177-3819-4f54-b7d0-b005571f8cde",
        "part": "whole"
       },
       "id": "9737a4f4-ab6c-4dc4-ab03-a5baecaaed4e"
      }
     }
    }
   },
   "themes": {}
  },
  "toc": {
   "base_numbering": 1,
   "nav_menu": {},
   "number_sections": false,
   "sideBar": true,
   "skip_h1_title": false,
   "title_cell": "Table of Contents",
   "title_sidebar": "Contents",
   "toc_cell": false,
   "toc_position": {},
   "toc_section_display": true,
   "toc_window_display": false
  },
  "varInspector": {
   "cols": {
    "lenName": 16,
    "lenType": 16,
    "lenVar": 40
   },
   "kernels_config": {
    "python": {
     "delete_cmd_postfix": "",
     "delete_cmd_prefix": "del ",
     "library": "var_list.py",
     "varRefreshCmd": "print(var_dic_list())"
    },
    "r": {
     "delete_cmd_postfix": ") ",
     "delete_cmd_prefix": "rm(",
     "library": "var_list.r",
     "varRefreshCmd": "cat(var_dic_list()) "
    }
   },
   "types_to_exclude": [
    "module",
    "function",
    "builtin_function_or_method",
    "instance",
    "_Feature"
   ],
   "window_display": false
  }
 },
 "nbformat": 4,
 "nbformat_minor": 4
}
